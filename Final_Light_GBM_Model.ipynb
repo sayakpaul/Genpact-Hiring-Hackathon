{
 "cells": [
  {
   "cell_type": "code",
   "execution_count": null,
   "metadata": {},
   "outputs": [],
   "source": [
    "!pip install lightgbm"
   ]
  },
  {
   "cell_type": "code",
   "execution_count": null,
   "metadata": {},
   "outputs": [],
   "source": [
    "# Dependencies \n",
    "\n",
    "import os\n",
    "import gc\n",
    "from functools import partial, wraps\n",
    "from datetime import datetime as dt\n",
    "import warnings\n",
    "warnings.simplefilter('ignore', FutureWarning)\n",
    "\n",
    "import numpy as np \n",
    "import pandas as pd\n",
    "\n",
    "from sklearn.model_selection import StratifiedKFold\n",
    "\n",
    "import lightgbm as lgb\n",
    "from sklearn.model_selection import train_test_split"
   ]
  },
  {
   "cell_type": "code",
   "execution_count": null,
   "metadata": {},
   "outputs": [],
   "source": [
    "# Load data\n",
    "train = pd.read_csv('train.csv')\n",
    "test = pd.read_csv('test.csv')\n",
    "ss = pd.read_csv('Submissions/sample_submission.csv')\n",
    "\n",
    "# RMSLE is not by default present in LightGBM. So define it. \n",
    "\n",
    "def rmsle(y_true, y_pred):\n",
    "    assert len(y_true) == len(y_pred)\n",
    "    return np.sqrt(np.mean(np.power(np.log1p(y_true + 1) - np.log1p(y_pred + 1), 2)))"
   ]
  },
  {
   "cell_type": "code",
   "execution_count": null,
   "metadata": {},
   "outputs": [],
   "source": [
    "# Create a NumPy array of predictors\n",
    "X = np.array(train.drop(['id', 'num_orders'], axis=1))\n",
    "\n",
    "# Create a NumPy array of the log values of the target\n",
    "y = np.log(train['num_orders'].values)"
   ]
  },
  {
   "cell_type": "code",
   "execution_count": null,
   "metadata": {},
   "outputs": [],
   "source": [
    "X_test = np.array(test.drop(['id',], axis=1))"
   ]
  },
  {
   "cell_type": "code",
   "execution_count": null,
   "metadata": {},
   "outputs": [],
   "source": [
    "median_num_orders = np.median(train['num_orders'].values)"
   ]
  },
  {
   "cell_type": "code",
   "execution_count": null,
   "metadata": {},
   "outputs": [],
   "source": [
    "params = {\n",
    "    'num_leaves' : 128, #64\n",
    "    'boosting_type': 'gbdt',\n",
    "    'objective': 'regression',\n",
    "    'metric': 'rmse',\n",
    "    'max_depth': 7, #6 \n",
    "    'learning_rate': 0.1,\n",
    "    \"lambda_l1\": 0.1,\n",
    "    'feature_fraction': 0.7,\n",
    "    \"bagging_freq\": 6,\n",
    "    \"bagging_fraction\": 0.2,\n",
    "    \"bagging_seed\" : 42,\n",
    "    \"verbosity\" : -1 }#1\n",
    "\n",
    "n_estimators = 1000 #750"
   ]
  },
  {
   "cell_type": "markdown",
   "metadata": {},
   "source": [
    "- Baseline Params of LightGBM model:\n",
    "\n",
    "```python\n",
    "params = {\n",
    "    'num_leaves' : 64,\n",
    "    'boosting_type': 'gbdt',\n",
    "    'objective': 'regression',\n",
    "    'metric': 'rmse',\n",
    "    'max_depth': 6, \n",
    "    'learning_rate': 0.1,\n",
    "    \"lambda_l1\": 0.1,\n",
    "    'feature_fraction': 0.9,\n",
    "    \"bagging_freq\": 1,\n",
    "    \"bagging_fraction\": 0.4,\n",
    "    \"verbosity\": -1}\n",
    "\n",
    "n_estimators = 160\n",
    "```"
   ]
  },
  {
   "cell_type": "code",
   "execution_count": null,
   "metadata": {},
   "outputs": [],
   "source": [
    "# Train, evaluate and predict and repeat\n",
    "n_iters = 10\n",
    "preds_buf = []\n",
    "err_buf = []\n",
    "for i in range(n_iters): \n",
    "    x_train, x_valid, y_train, y_valid = train_test_split(X, y, test_size=0.10, random_state=i)\n",
    "    d_train = lgb.Dataset(x_train, label=y_train)\n",
    "    d_valid = lgb.Dataset(x_valid, label=y_valid)\n",
    "\n",
    "    model = lgb.train(params, d_train, n_estimators, valid_sets = [d_train, d_valid],\\\n",
    "                      verbose_eval=1, early_stopping_rounds=25)\n",
    "\n",
    "    preds = model.predict(x_valid, num_iteration=model.best_iteration)\n",
    "    preds = np.exp(preds)\n",
    "    preds[preds < 0] = median_num_orders\n",
    "    err = rmsle(np.exp(y_valid), preds)\n",
    "    err_buf.append(err)\n",
    "    print('RMSLE = ' + str(err))\n",
    "    \n",
    "    preds = model.predict(X_test)\n",
    "    preds = np.exp(preds)\n",
    "    preds[preds < 0] = median_num_orders\n",
    "    preds_buf.append(preds)\n",
    "\n",
    "print('Mean RMSLE = ' + str(np.mean(err_buf)) + ' +/- ' + str(np.std(err_buf)))\n",
    "# Average predictions\n",
    "preds = np.mean(preds_buf, axis=0)"
   ]
  },
  {
   "cell_type": "markdown",
   "metadata": {},
   "source": [
    "1. Mean RMSLE = 0.5844806514684168 +/- 0.00211429735921519\n",
    "2. Mean RMSLE = 0.5699200420771778 +/- 0.0025914016800524468\n",
    "3. Mean RMSLE = 0.5615087285976806 +/- 0.002934098036840698\n",
    "4. Mean RMSLE = 0.5559986378972583 +/- 0.0025083052868352653\n",
    "5. Mean RMSLE = 0.5434706176600281 +/- 0.0032578217336534324\n",
    "6. Mean RMSLE = 0.5276496861152888 +/- 0.002364611153512707\n",
    "7. Mean RMSLE = 0.4788315817420143 +/- 0.0015999403935491486"
   ]
  },
  {
   "cell_type": "code",
   "execution_count": null,
   "metadata": {},
   "outputs": [],
   "source": [
    "# Preparation of submission file\n",
    "subm = pd.DataFrame()\n",
    "subm['id'] = test.id.values\n",
    "subm['num_orders'] = preds\n",
    "subm.to_csv('final_submission_lightgbm_sayak.csv', index=False)"
   ]
  }
 ],
 "metadata": {
  "kernelspec": {
   "display_name": "Python 3",
   "language": "python",
   "name": "python3"
  },
  "language_info": {
   "codemirror_mode": {
    "name": "ipython",
    "version": 3
   },
   "file_extension": ".py",
   "mimetype": "text/x-python",
   "name": "python",
   "nbconvert_exporter": "python",
   "pygments_lexer": "ipython3",
   "version": "3.6.5"
  }
 },
 "nbformat": 4,
 "nbformat_minor": 2
}
